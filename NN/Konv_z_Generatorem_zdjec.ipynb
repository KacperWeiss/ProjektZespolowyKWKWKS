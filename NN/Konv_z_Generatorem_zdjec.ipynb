{
 "cells": [
  {
   "cell_type": "code",
   "execution_count": 1,
   "metadata": {},
   "outputs": [],
   "source": [
    "#from keras import layers\n",
    "#from keras import models\n",
    "\n",
    "#from tensorflow.python.keras import layers\n",
    "#from tensorflow.python.keras import models\n",
    "#from tensorflow.python.keras.preprocessing.image import ImageDataGenerator\n",
    "#import os, shutil\n",
    "\n",
    "#from tensorflow.python.keras.layers import Input, Dense, Dropout, Flatten, MaxPooling2D, Conv2D, Sequential"
   ]
  },
  {
   "cell_type": "code",
   "execution_count": 2,
   "metadata": {},
   "outputs": [
    {
     "name": "stderr",
     "output_type": "stream",
     "text": [
      "Using TensorFlow backend.\n"
     ]
    }
   ],
   "source": [
    "\n",
    "import tensorflow as tf\n",
    "\n",
    "from keras.models import Sequential\n",
    "from keras.layers import InputLayer, Input\n",
    "from keras.layers import Reshape, MaxPooling2D\n",
    "from keras.layers import Conv2D, Dense, Flatten, Dropout\n",
    "from keras.preprocessing.image import ImageDataGenerator"
   ]
  },
  {
   "cell_type": "code",
   "execution_count": 3,
   "metadata": {},
   "outputs": [],
   "source": [
    "datagen = ImageDataGenerator(rotation_range=40,\n",
    "                             width_shift_range=0.2,\n",
    "                             height_shift_range=0.2,\n",
    "                             shear_range=0.2,\n",
    "                             zoom_range=0.2,\n",
    "                             horizontal_flip=True,\n",
    "                             fill_mode='nearest')"
   ]
  },
  {
   "cell_type": "code",
   "execution_count": null,
   "metadata": {},
   "outputs": [
    {
     "name": "stdout",
     "output_type": "stream",
     "text": [
      "WARNING:tensorflow:From C:\\Users\\Kacper\\Anaconda3\\lib\\site-packages\\tensorflow\\python\\framework\\op_def_library.py:263: colocate_with (from tensorflow.python.framework.ops) is deprecated and will be removed in a future version.\n",
      "Instructions for updating:\n",
      "Colocations handled automatically by placer.\n",
      "WARNING:tensorflow:From C:\\Users\\Kacper\\Anaconda3\\lib\\site-packages\\keras\\backend\\tensorflow_backend.py:3445: calling dropout (from tensorflow.python.ops.nn_ops) with keep_prob is deprecated and will be removed in a future version.\n",
      "Instructions for updating:\n",
      "Please use `rate` instead of `keep_prob`. Rate should be set to `rate = 1 - keep_prob`.\n"
     ]
    }
   ],
   "source": [
    "model = Sequential()\n",
    "\n",
    "#1a\n",
    "model.add(Conv2D(32, (3,3), activation='relu', input_shape=(150, 150, 3)))\n",
    "model.add(Conv2D(32, (3,3), activation='relu', input_shape=(150, 150, 3)))\n",
    "#1\n",
    "model.add(Conv2D(64, (3,3), activation='relu', input_shape=(150, 150, 3)))\n",
    "model.add(MaxPooling2D((2,2)))\n",
    "#2\n",
    "model.add(Conv2D(64, (3,3), activation='relu'))\n",
    "model.add(MaxPooling2D((2,2)))\n",
    "#3\n",
    "model.add(Conv2D(128, (3,3), activation='relu'))\n",
    "model.add(MaxPooling2D((2,2)))\n",
    "#4\n",
    "model.add(Conv2D(128, (3,3), activation='relu'))\n",
    "model.add(MaxPooling2D((2,2)))\n",
    "#5\n",
    "model.add(Flatten())\n",
    "model.add(Dropout(0.5))\n",
    "model.add(Dense(512, activation='relu'))\n",
    "model.add(Dense(1,activation='sigmoid'))"
   ]
  },
  {
   "cell_type": "code",
   "execution_count": null,
   "metadata": {},
   "outputs": [
    {
     "name": "stdout",
     "output_type": "stream",
     "text": [
      "_________________________________________________________________\n",
      "Layer (type)                 Output Shape              Param #   \n",
      "=================================================================\n",
      "conv2d_1 (Conv2D)            (None, 148, 148, 32)      896       \n",
      "_________________________________________________________________\n",
      "conv2d_2 (Conv2D)            (None, 146, 146, 32)      9248      \n",
      "_________________________________________________________________\n",
      "conv2d_3 (Conv2D)            (None, 144, 144, 64)      18496     \n",
      "_________________________________________________________________\n",
      "max_pooling2d_1 (MaxPooling2 (None, 72, 72, 64)        0         \n",
      "_________________________________________________________________\n",
      "conv2d_4 (Conv2D)            (None, 70, 70, 64)        36928     \n",
      "_________________________________________________________________\n",
      "max_pooling2d_2 (MaxPooling2 (None, 35, 35, 64)        0         \n",
      "_________________________________________________________________\n",
      "conv2d_5 (Conv2D)            (None, 33, 33, 128)       73856     \n",
      "_________________________________________________________________\n",
      "max_pooling2d_3 (MaxPooling2 (None, 16, 16, 128)       0         \n",
      "_________________________________________________________________\n",
      "conv2d_6 (Conv2D)            (None, 14, 14, 128)       147584    \n",
      "_________________________________________________________________\n",
      "max_pooling2d_4 (MaxPooling2 (None, 7, 7, 128)         0         \n",
      "_________________________________________________________________\n",
      "flatten_1 (Flatten)          (None, 6272)              0         \n",
      "_________________________________________________________________\n",
      "dropout_1 (Dropout)          (None, 6272)              0         \n",
      "_________________________________________________________________\n",
      "dense_1 (Dense)              (None, 512)               3211776   \n",
      "_________________________________________________________________\n",
      "dense_2 (Dense)              (None, 1)                 513       \n",
      "=================================================================\n",
      "Total params: 3,499,297\n",
      "Trainable params: 3,499,297\n",
      "Non-trainable params: 0\n",
      "_________________________________________________________________\n"
     ]
    }
   ],
   "source": [
    "model.summary()"
   ]
  },
  {
   "cell_type": "code",
   "execution_count": null,
   "metadata": {},
   "outputs": [],
   "source": [
    "#optymalizator\n",
    "from keras import optimizers\n",
    "\n",
    "model.compile(loss='binary_crossentropy', \n",
    "             optimizer=optimizers.RMSprop(lr=1e-4), \n",
    "             metrics=['acc'])"
   ]
  },
  {
   "cell_type": "code",
   "execution_count": null,
   "metadata": {},
   "outputs": [
    {
     "name": "stdout",
     "output_type": "stream",
     "text": [
      "Found 5001 images belonging to 2 classes.\n",
      "Found 1500 images belonging to 2 classes.\n",
      "WARNING:tensorflow:From C:\\Users\\Kacper\\Anaconda3\\lib\\site-packages\\tensorflow\\python\\ops\\math_ops.py:3066: to_int32 (from tensorflow.python.ops.math_ops) is deprecated and will be removed in a future version.\n",
      "Instructions for updating:\n",
      "Use tf.cast instead.\n",
      "Epoch 1/40\n",
      "100/100 [==============================] - 111s 1s/step - loss: 0.4786 - acc: 0.7981 - val_loss: 0.6831 - val_acc: 0.6648\n",
      "Epoch 2/40\n",
      "100/100 [==============================] - 83s 835ms/step - loss: 0.4473 - acc: 0.8023 - val_loss: 0.5941 - val_acc: 0.6660\n",
      "Epoch 3/40\n",
      "100/100 [==============================] - 82s 818ms/step - loss: 0.4433 - acc: 0.8009 - val_loss: 0.5126 - val_acc: 0.6711\n",
      "Epoch 4/40\n",
      "100/100 [==============================] - 80s 797ms/step - loss: 0.4222 - acc: 0.8040 - val_loss: 0.5599 - val_acc: 0.6610\n",
      "Epoch 5/40\n",
      "100/100 [==============================] - 81s 807ms/step - loss: 0.4285 - acc: 0.7948 - val_loss: 0.4925 - val_acc: 0.7180\n",
      "Epoch 6/40\n",
      "100/100 [==============================] - 80s 801ms/step - loss: 0.4214 - acc: 0.8041 - val_loss: 0.4858 - val_acc: 0.6880\n",
      "Epoch 7/40\n",
      "100/100 [==============================] - 79s 794ms/step - loss: 0.4308 - acc: 0.7915 - val_loss: 0.5298 - val_acc: 0.7018\n",
      "Epoch 8/40\n",
      "100/100 [==============================] - 80s 798ms/step - loss: 0.3941 - acc: 0.8126 - val_loss: 0.5819 - val_acc: 0.6955\n",
      "Epoch 9/40\n",
      "100/100 [==============================] - 80s 799ms/step - loss: 0.4000 - acc: 0.8037 - val_loss: 0.4503 - val_acc: 0.7613\n",
      "Epoch 10/40\n",
      "100/100 [==============================] - 80s 795ms/step - loss: 0.4079 - acc: 0.8072 - val_loss: 0.6072 - val_acc: 0.7093\n",
      "Epoch 11/40\n",
      "100/100 [==============================] - 80s 798ms/step - loss: 0.3896 - acc: 0.8139 - val_loss: 0.6879 - val_acc: 0.7086\n",
      "Epoch 12/40\n",
      "100/100 [==============================] - 80s 797ms/step - loss: 0.3999 - acc: 0.8078 - val_loss: 0.4632 - val_acc: 0.7575\n",
      "Epoch 13/40\n",
      "100/100 [==============================] - 79s 791ms/step - loss: 0.3755 - acc: 0.8242 - val_loss: 0.4268 - val_acc: 0.7851\n",
      "Epoch 14/40\n",
      "100/100 [==============================] - 80s 797ms/step - loss: 0.3874 - acc: 0.8169 - val_loss: 0.5188 - val_acc: 0.7538\n",
      "Epoch 15/40\n",
      " 53/100 [==============>...............] - ETA: 25s - loss: 0.3888 - acc: 0.8236"
     ]
    }
   ],
   "source": [
    "train_datagen = ImageDataGenerator(rescale=1./255,\n",
    "                                  rotation_range=40,\n",
    "                                  width_shift_range=0.2,\n",
    "                                  height_shift_range=-.2,\n",
    "                                  shear_range=0.2,\n",
    "                                  zoom_range=0.2,\n",
    "                                  horizontal_flip=True,)\n",
    "\n",
    "test_datagen = ImageDataGenerator(rescale=1./255)\n",
    "\n",
    "train_dir = r'C:\\Users\\Kacper\\Documents\\ANACONDA\\Base\\train'\n",
    "train_generator = train_datagen.flow_from_directory(\n",
    "            train_dir,\n",
    "            target_size=(150, 150),\n",
    "            batch_size=32,\n",
    "            class_mode='binary')\n",
    "\n",
    "validation_dir = r'C:\\Users\\Kacper\\Documents\\ANACONDA\\Base\\validation'\n",
    "validation_generator = test_datagen.flow_from_directory(\n",
    "            validation_dir,\n",
    "            target_size=(150, 150),\n",
    "            batch_size=32,\n",
    "            class_mode='binary')\n",
    "\n",
    "history = model.fit_generator(\n",
    "        train_generator,\n",
    "        steps_per_epoch=100,\n",
    "        epochs=40,\n",
    "        validation_data=validation_generator,\n",
    "        validation_steps=50)\n",
    "#40 epochs wystarczy"
   ]
  },
  {
   "cell_type": "code",
   "execution_count": null,
   "metadata": {},
   "outputs": [],
   "source": [
    "model.save('Podejscie_z_Generacja_Obrazu_v2.h5')"
   ]
  },
  {
   "cell_type": "code",
   "execution_count": null,
   "metadata": {
    "scrolled": false
   },
   "outputs": [],
   "source": [
    "#generowanie wykresów\n",
    "import matplotlib.pyplot as plt\n",
    "\n",
    "acc = history.history['acc']\n",
    "val_acc = history.history['val_acc']\n",
    "loss = history.history['loss']\n",
    "val_loss = history.history['val_loss']\n",
    "\n",
    "epochs = range(len(acc))\n",
    "\n",
    "plt.plot(epochs,acc,'bo', label='Dokladnosc trenowania')\n",
    "plt.plot(epochs,val_acc,'b', label='Dokladnosc walidacji')\n",
    "plt.title('Dokladnosc trenowania i waliudacji')\n",
    "plt.legend()\n",
    "\n",
    "plt.figure()\n",
    "\n",
    "plt.plot(epochs,loss,'bo', label='Strata ternowania')\n",
    "plt.plot(epochs,val_loss,'b', label='Strata walidacji')\n",
    "plt.title('Strata trenowania i waliudacji')\n",
    "plt.legend()\n",
    "\n",
    "plt.show()"
   ]
  },
  {
   "cell_type": "code",
   "execution_count": null,
   "metadata": {},
   "outputs": [],
   "source": [
    "'''\n",
    "#Testowanie\n",
    "test_generator = test_datagen.flow_from_directory(test_dir,\n",
    "target_size=(150,150),\n",
    "batch_size=20,\n",
    "calss_mode='binary')\n",
    "\n",
    "test_loss, test_acc = model.evaluate_generator(test_generator, steps=50)\n",
    "print('dokładność podczas testowania:', test_acc)\n",
    "\n",
    "#wczytywanie modelu\n",
    "classifier = load_model(“Podejscie_z_Generacja_Obrazu.h5”) \n",
    "'''"
   ]
  }
 ],
 "metadata": {
  "kernelspec": {
   "display_name": "Python 3",
   "language": "python",
   "name": "python3"
  },
  "language_info": {
   "codemirror_mode": {
    "name": "ipython",
    "version": 3
   },
   "file_extension": ".py",
   "mimetype": "text/x-python",
   "name": "python",
   "nbconvert_exporter": "python",
   "pygments_lexer": "ipython3",
   "version": "3.6.8"
  }
 },
 "nbformat": 4,
 "nbformat_minor": 2
}
