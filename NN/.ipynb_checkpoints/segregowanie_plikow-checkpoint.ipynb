{
 "cells": [
  {
   "cell_type": "code",
   "execution_count": 1,
   "metadata": {},
   "outputs": [],
   "source": [
    "import os #linuxowa lib?\n",
    "import shutil"
   ]
  },
  {
   "cell_type": "code",
   "execution_count": 2,
   "metadata": {},
   "outputs": [
    {
     "ename": "FileNotFoundError",
     "evalue": "[WinError 3] System nie może odnaleźć określonej ścieżki: ''",
     "output_type": "error",
     "traceback": [
      "\u001b[1;31m---------------------------------------------------------------------------\u001b[0m",
      "\u001b[1;31mFileNotFoundError\u001b[0m                         Traceback (most recent call last)",
      "\u001b[1;32m<ipython-input-2-f76526305a5d>\u001b[0m in \u001b[0;36m<module>\u001b[1;34m\u001b[0m\n\u001b[0;32m      1\u001b[0m \u001b[0moriginal_dataset_dir\u001b[0m \u001b[1;33m=\u001b[0m\u001b[1;34m''\u001b[0m \u001b[1;31m#ścieżka\u001b[0m\u001b[1;33m\u001b[0m\u001b[1;33m\u001b[0m\u001b[0m\n\u001b[0;32m      2\u001b[0m \u001b[0mbase_dir\u001b[0m \u001b[1;33m=\u001b[0m \u001b[1;34m''\u001b[0m \u001b[1;31m#ścieżka\u001b[0m\u001b[1;33m\u001b[0m\u001b[1;33m\u001b[0m\u001b[0m\n\u001b[1;32m----> 3\u001b[1;33m \u001b[0mos\u001b[0m\u001b[1;33m.\u001b[0m\u001b[0mmkdir\u001b[0m\u001b[1;33m(\u001b[0m\u001b[0mbase_dir\u001b[0m\u001b[1;33m)\u001b[0m\u001b[1;33m\u001b[0m\u001b[1;33m\u001b[0m\u001b[0m\n\u001b[0m",
      "\u001b[1;31mFileNotFoundError\u001b[0m: [WinError 3] System nie może odnaleźć określonej ścieżki: ''"
     ]
    }
   ],
   "source": [
    "base_dir = 'C:\\Users\\Kacper\\Documents\\ANACONDA\\Base' #ścieżka\n",
    "#os.mkdir(base_dir)"
   ]
  },
  {
   "cell_type": "code",
   "execution_count": null,
   "metadata": {},
   "outputs": [],
   "source": [
    "# ustawianie katalogów\n",
    "train_dir = os.path.join(base_dir, 'train')\n",
    "os.mkdir(train_dir)\n",
    "validation_dir = os.path.join(base_dir,'validation')\n",
    "os.mkdir(validation_dir)\n",
    "test_dir = os.path.join(base_dir,'test')\n",
    "os.mkdir(test_dir)"
   ]
  },
  {
   "cell_type": "code",
   "execution_count": null,
   "metadata": {},
   "outputs": [],
   "source": [
    "# ustawianie treningu\n",
    "train_cancer_dir = os.path.join(train_dir, 'cancer')\n",
    "os.mkdir(train_cancer_dir)\n",
    "train_healthy_dir = os.path.join(train_dir , 'healthy')\n",
    "os.mkdir(train_healthy_dir)"
   ]
  },
  {
   "cell_type": "code",
   "execution_count": null,
   "metadata": {},
   "outputs": [],
   "source": [
    "# ustawianie walidacyjncyh\n",
    "validation_canver_dir = os.path.join(validation_dir, 'cancer')\n",
    "os.mkdir(validation_cancer_dir)\n",
    "validation_healthy_dir = os.path.join(validation_dir, 'healthy')\n",
    "os.mkdir(validation_healthy_dir)"
   ]
  },
  {
   "cell_type": "code",
   "execution_count": null,
   "metadata": {},
   "outputs": [],
   "source": [
    "# testowy zbiór\n",
    "test_cancer_dir = os.path.join(test_dir,'cancer')\n",
    "os.mkdir(test_cancer_dir)\n",
    "test_healthy_dor = os.path.join(test_dir, 'healthy')\n",
    "os.mkdir(test_healthy_dir)"
   ]
  },
  {
   "cell_type": "code",
   "execution_count": null,
   "metadata": {},
   "outputs": [],
   "source": [
    "original_dataset_dir = 'C:\\Users\\Kacper\\Documents\\ANACONDA\\Chore'\n",
    "fnames = ['ISIC_{}.jpg'.format(i) for i in range (1000)] # pierwsze 1000 zdjec kopiowane do folderu \n",
    "for fname in fnames:\n",
    "    src = os.path.join(original_dataset_dir, fname)\n",
    "    dst = os.path.join(train_cancer_dir, fname)\n",
    "    shutil.copyfile(stc, dst)\n",
    "    \n",
    "fnames = ['ISIC_{}.jpg'.format(i) for i in range (1000, 1500)] \n",
    "for fname in fnames:\n",
    "    src = os.path.join(original_dataset_dir, fname)\n",
    "    dst = os.path.join(validation_cancer_dir, fname)\n",
    "    shutil.copyfile(stc, dst)\n",
    "    \n",
    "fnames = ['ISIC_{}.jpg'.format(i) for i in range (1500,2000)] \n",
    "for fname in fnames:\n",
    "    src = os.path.join(original_dataset_dir, fname)\n",
    "    dst = os.path.join(test_cancer_dir, fname)\n",
    "    shutil.copyfile(stc, dst)"
   ]
  },
  {
   "cell_type": "code",
   "execution_count": null,
   "metadata": {},
   "outputs": [],
   "source": [
    "original_dataset_dir = 'C:\\Users\\Kacper\\Documents\\ANACONDA\\Zdrowe'\n",
    "fnames = ['ISIC_{}.jpg'.format(i) for i in range (4000)] #pierwsze 1000 zdjec kopiowane do folderu \n",
    "for fname in fnames:\n",
    "    src = os.path.join(original_dataset_dir, fname)\n",
    "    dst = os.path.join(train_healthy_dir, fname)\n",
    "    shutil.copyfile(stc, dst)\n",
    "    \n",
    "fnames = ['ISIC_{}.jpg'.format(i) for i in range (4000, 5000)] \n",
    "for fname in fnames:\n",
    "    src = os.path.join(original_dataset_dir, fname)\n",
    "    dst = os.path.join(validation_healthy_dir, fname)\n",
    "    shutil.copyfile(stc, dst)\n",
    "    \n",
    "fnames = ['ISIC_{}.jpg'.format(i) for i in range (5000, 6000)] \n",
    "for fname in fnames:\n",
    "    src = os.path.join(original_dataset_dir, fname)\n",
    "    dst = os.path.join(test_healthy_dir, fname)\n",
    "    shutil.copyfile(stc, dst)"
   ]
  },
  {
   "cell_type": "raw",
   "metadata": {},
   "source": []
  }
 ],
 "metadata": {
  "kernelspec": {
   "display_name": "Python 3",
   "language": "python",
   "name": "python3"
  },
  "language_info": {
   "codemirror_mode": {
    "name": "ipython",
    "version": 3
   },
   "file_extension": ".py",
   "mimetype": "text/x-python",
   "name": "python",
   "nbconvert_exporter": "python",
   "pygments_lexer": "ipython3",
   "version": "3.7.3"
  }
 },
 "nbformat": 4,
 "nbformat_minor": 2
}
