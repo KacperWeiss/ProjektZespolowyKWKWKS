{
 "cells": [
  {
   "cell_type": "code",
   "execution_count": 1,
   "metadata": {},
   "outputs": [
    {
     "name": "stderr",
     "output_type": "stream",
     "text": [
      "Using TensorFlow backend.\n"
     ]
    }
   ],
   "source": [
    "from keras import layers\n",
    "from keras import models"
   ]
  },
  {
   "cell_type": "code",
   "execution_count": 2,
   "metadata": {
    "scrolled": false
   },
   "outputs": [
    {
     "name": "stdout",
     "output_type": "stream",
     "text": [
      "WARNING:tensorflow:From C:\\Users\\Kacper\\Anaconda3\\lib\\site-packages\\tensorflow\\python\\framework\\op_def_library.py:263: colocate_with (from tensorflow.python.framework.ops) is deprecated and will be removed in a future version.\n",
      "Instructions for updating:\n",
      "Colocations handled automatically by placer.\n"
     ]
    }
   ],
   "source": [
    "model = models.Sequential()\n",
    "\n",
    "#1\n",
    "model.add(layers.Dense(256, activation='relu', input_shape=(150,150,3)))\n",
    "model.add(layers.Dense(256, activation='relu'))\n",
    "model.add(layers.Dense(128, activation='relu'))\n",
    "model.add(layers.Flatten())\n",
    "model.add(layers.Dense(1,activation='sigmoid'))"
   ]
  },
  {
   "cell_type": "code",
   "execution_count": 3,
   "metadata": {},
   "outputs": [
    {
     "name": "stdout",
     "output_type": "stream",
     "text": [
      "_________________________________________________________________\n",
      "Layer (type)                 Output Shape              Param #   \n",
      "=================================================================\n",
      "dense_1 (Dense)              (None, 150, 150, 256)     1024      \n",
      "_________________________________________________________________\n",
      "dense_2 (Dense)              (None, 150, 150, 256)     65792     \n",
      "_________________________________________________________________\n",
      "dense_3 (Dense)              (None, 150, 150, 128)     32896     \n",
      "_________________________________________________________________\n",
      "flatten_1 (Flatten)          (None, 2880000)           0         \n",
      "_________________________________________________________________\n",
      "dense_4 (Dense)              (None, 1)                 2880001   \n",
      "=================================================================\n",
      "Total params: 2,979,713\n",
      "Trainable params: 2,979,713\n",
      "Non-trainable params: 0\n",
      "_________________________________________________________________\n"
     ]
    }
   ],
   "source": [
    "model.summary()"
   ]
  },
  {
   "cell_type": "code",
   "execution_count": 4,
   "metadata": {},
   "outputs": [],
   "source": [
    "\n",
    "#optymalizator\n",
    "from keras import optimizers\n",
    "\n",
    "model.compile(loss='binary_crossentropy', \n",
    "             optimizer=optimizers.RMSprop(lr=1e-4), \n",
    "             metrics=['acc'])"
   ]
  },
  {
   "cell_type": "code",
   "execution_count": 5,
   "metadata": {},
   "outputs": [
    {
     "name": "stdout",
     "output_type": "stream",
     "text": [
      "Found 5001 images belonging to 2 classes.\n",
      "Found 1500 images belonging to 2 classes.\n"
     ]
    }
   ],
   "source": [
    "# wstepna obróbka danych\n",
    "from keras.preprocessing.image import ImageDataGenerator\n",
    "\n",
    "train_datagen = ImageDataGenerator(rescale=1./255)\n",
    "test_datagen = ImageDataGenerator(rescale=1./255)\n",
    "\n",
    "train_dir = R'C:\\Users\\Kacper\\Documents\\ANACONDA\\Base\\train'\n",
    "train_generator = train_datagen.flow_from_directory(\n",
    "            train_dir,\n",
    "            target_size=(150,150),\n",
    "            batch_size=20,\n",
    "            class_mode='binary')\n",
    "\n",
    "validation_dir = R'C:\\Users\\Kacper\\Documents\\ANACONDA\\Base\\validation'\n",
    "validation_generator = test_datagen.flow_from_directory(\n",
    "            validation_dir,\n",
    "            target_size=(150,150),\n",
    "            batch_size=20,\n",
    "            class_mode='binary')"
   ]
  },
  {
   "cell_type": "code",
   "execution_count": 6,
   "metadata": {},
   "outputs": [
    {
     "name": "stdout",
     "output_type": "stream",
     "text": [
      "WARNING:tensorflow:From C:\\Users\\Kacper\\Anaconda3\\lib\\site-packages\\tensorflow\\python\\ops\\math_ops.py:3066: to_int32 (from tensorflow.python.ops.math_ops) is deprecated and will be removed in a future version.\n",
      "Instructions for updating:\n",
      "Use tf.cast instead.\n",
      "Epoch 1/60\n",
      "64/64 [==============================] - 30s 465ms/step - loss: 0.7036 - acc: 0.7539 - val_loss: 0.6028 - val_acc: 0.6700\n",
      "Epoch 2/60\n",
      "64/64 [==============================] - 28s 435ms/step - loss: 0.4351 - acc: 0.7984 - val_loss: 0.5171 - val_acc: 0.6700\n",
      "Epoch 3/60\n",
      "64/64 [==============================] - 28s 439ms/step - loss: 0.4278 - acc: 0.8023 - val_loss: 0.5515 - val_acc: 0.6775\n",
      "Epoch 4/60\n",
      "64/64 [==============================] - 28s 431ms/step - loss: 0.3593 - acc: 0.8398 - val_loss: 0.5340 - val_acc: 0.6775\n",
      "Epoch 5/60\n",
      "64/64 [==============================] - 28s 437ms/step - loss: 0.3782 - acc: 0.8211 - val_loss: 0.7359 - val_acc: 0.6675\n",
      "Epoch 6/60\n",
      "64/64 [==============================] - 28s 437ms/step - loss: 0.3528 - acc: 0.8289 - val_loss: 0.3787 - val_acc: 0.8175\n",
      "Epoch 7/60\n",
      "64/64 [==============================] - 28s 439ms/step - loss: 0.3945 - acc: 0.8156 - val_loss: 0.5401 - val_acc: 0.7100\n",
      "Epoch 8/60\n",
      "64/64 [==============================] - 28s 434ms/step - loss: 0.3528 - acc: 0.8398 - val_loss: 0.4357 - val_acc: 0.7750\n",
      "Epoch 9/60\n",
      "64/64 [==============================] - 28s 440ms/step - loss: 0.3474 - acc: 0.8352 - val_loss: 0.5906 - val_acc: 0.6925\n",
      "Epoch 10/60\n",
      "64/64 [==============================] - 28s 440ms/step - loss: 0.3506 - acc: 0.8398 - val_loss: 0.4162 - val_acc: 0.8275\n",
      "Epoch 11/60\n",
      "64/64 [==============================] - 28s 440ms/step - loss: 0.3539 - acc: 0.8437 - val_loss: 0.5230 - val_acc: 0.7200\n",
      "Epoch 12/60\n",
      "64/64 [==============================] - 28s 439ms/step - loss: 0.3549 - acc: 0.8367 - val_loss: 0.6153 - val_acc: 0.7325\n",
      "Epoch 13/60\n",
      "64/64 [==============================] - 28s 440ms/step - loss: 0.3532 - acc: 0.8375 - val_loss: 0.3888 - val_acc: 0.8025\n",
      "Epoch 14/60\n",
      "64/64 [==============================] - 28s 438ms/step - loss: 0.3322 - acc: 0.8570 - val_loss: 0.5422 - val_acc: 0.7625\n",
      "Epoch 15/60\n",
      "64/64 [==============================] - 28s 438ms/step - loss: 0.3268 - acc: 0.8633 - val_loss: 0.4177 - val_acc: 0.7900\n",
      "Epoch 16/60\n",
      "64/64 [==============================] - 28s 433ms/step - loss: 0.3531 - acc: 0.8445 - val_loss: 0.6030 - val_acc: 0.7525\n",
      "Epoch 17/60\n",
      "64/64 [==============================] - 28s 440ms/step - loss: 0.3289 - acc: 0.8484 - val_loss: 0.4393 - val_acc: 0.7675\n",
      "Epoch 18/60\n",
      "64/64 [==============================] - 28s 438ms/step - loss: 0.3426 - acc: 0.8508 - val_loss: 0.4508 - val_acc: 0.7925\n",
      "Epoch 19/60\n",
      "64/64 [==============================] - 28s 438ms/step - loss: 0.3009 - acc: 0.8812 - val_loss: 0.4861 - val_acc: 0.8000\n",
      "Epoch 20/60\n",
      "64/64 [==============================] - 28s 433ms/step - loss: 0.3421 - acc: 0.8314 - val_loss: 0.5369 - val_acc: 0.7825\n",
      "Epoch 21/60\n",
      "64/64 [==============================] - 28s 438ms/step - loss: 0.3555 - acc: 0.8383 - val_loss: 0.5808 - val_acc: 0.7400\n",
      "Epoch 22/60\n",
      "64/64 [==============================] - 28s 438ms/step - loss: 0.3047 - acc: 0.8734 - val_loss: 0.5207 - val_acc: 0.7975\n",
      "Epoch 23/60\n",
      "64/64 [==============================] - 28s 438ms/step - loss: 0.3093 - acc: 0.8672 - val_loss: 0.4938 - val_acc: 0.7725\n",
      "Epoch 24/60\n",
      "64/64 [==============================] - 28s 433ms/step - loss: 0.3362 - acc: 0.8557 - val_loss: 0.3710 - val_acc: 0.8275\n",
      "Epoch 25/60\n",
      "64/64 [==============================] - 28s 439ms/step - loss: 0.3036 - acc: 0.8727 - val_loss: 0.5267 - val_acc: 0.7800\n",
      "Epoch 26/60\n",
      "64/64 [==============================] - 28s 439ms/step - loss: 0.2996 - acc: 0.8727 - val_loss: 0.4276 - val_acc: 0.8100\n",
      "Epoch 27/60\n",
      "64/64 [==============================] - 28s 440ms/step - loss: 0.3254 - acc: 0.8625 - val_loss: 0.4156 - val_acc: 0.8325\n",
      "Epoch 28/60\n",
      "64/64 [==============================] - 28s 433ms/step - loss: 0.2959 - acc: 0.8781 - val_loss: 0.4748 - val_acc: 0.7850\n",
      "Epoch 29/60\n",
      "64/64 [==============================] - 28s 438ms/step - loss: 0.2936 - acc: 0.8727 - val_loss: 0.5159 - val_acc: 0.7650\n",
      "Epoch 30/60\n",
      "64/64 [==============================] - 28s 440ms/step - loss: 0.2940 - acc: 0.8742 - val_loss: 0.5128 - val_acc: 0.8000\n",
      "Epoch 31/60\n",
      "64/64 [==============================] - 28s 438ms/step - loss: 0.3207 - acc: 0.8609 - val_loss: 0.7138 - val_acc: 0.7175\n",
      "Epoch 32/60\n",
      "64/64 [==============================] - 28s 433ms/step - loss: 0.2693 - acc: 0.8781 - val_loss: 0.4365 - val_acc: 0.8050\n",
      "Epoch 33/60\n",
      "64/64 [==============================] - 28s 438ms/step - loss: 0.2718 - acc: 0.8828 - val_loss: 0.4420 - val_acc: 0.8125\n",
      "Epoch 34/60\n",
      "64/64 [==============================] - 28s 440ms/step - loss: 0.3096 - acc: 0.8695 - val_loss: 0.4472 - val_acc: 0.7925\n",
      "Epoch 35/60\n",
      "64/64 [==============================] - 28s 439ms/step - loss: 0.3052 - acc: 0.8719 - val_loss: 0.4519 - val_acc: 0.7975\n",
      "Epoch 36/60\n",
      "64/64 [==============================] - 28s 433ms/step - loss: 0.2923 - acc: 0.8750 - val_loss: 0.4578 - val_acc: 0.7825\n",
      "Epoch 37/60\n",
      "64/64 [==============================] - 28s 439ms/step - loss: 0.2778 - acc: 0.8758 - val_loss: 0.4242 - val_acc: 0.8300\n",
      "Epoch 38/60\n",
      "64/64 [==============================] - 28s 438ms/step - loss: 0.2767 - acc: 0.8828 - val_loss: 0.5065 - val_acc: 0.7975\n",
      "Epoch 39/60\n",
      "64/64 [==============================] - 28s 438ms/step - loss: 0.2808 - acc: 0.8820 - val_loss: 0.4005 - val_acc: 0.8150\n",
      "Epoch 40/60\n",
      "64/64 [==============================] - 28s 433ms/step - loss: 0.2586 - acc: 0.8867 - val_loss: 0.5224 - val_acc: 0.8125\n",
      "Epoch 41/60\n",
      "64/64 [==============================] - 28s 438ms/step - loss: 0.2694 - acc: 0.8937 - val_loss: 0.3747 - val_acc: 0.8400\n",
      "Epoch 42/60\n",
      "64/64 [==============================] - 28s 438ms/step - loss: 0.2836 - acc: 0.8742 - val_loss: 0.4849 - val_acc: 0.8000\n",
      "Epoch 43/60\n",
      "64/64 [==============================] - 28s 438ms/step - loss: 0.2507 - acc: 0.8945 - val_loss: 0.4376 - val_acc: 0.7975\n",
      "Epoch 44/60\n",
      "64/64 [==============================] - 28s 433ms/step - loss: 0.2632 - acc: 0.8859 - val_loss: 0.4807 - val_acc: 0.8075\n",
      "Epoch 45/60\n",
      "64/64 [==============================] - 28s 438ms/step - loss: 0.2572 - acc: 0.8867 - val_loss: 0.6510 - val_acc: 0.7775\n",
      "Epoch 46/60\n",
      "64/64 [==============================] - 28s 439ms/step - loss: 0.2469 - acc: 0.8859 - val_loss: 0.4567 - val_acc: 0.8050\n",
      "Epoch 47/60\n",
      "64/64 [==============================] - 28s 438ms/step - loss: 0.2477 - acc: 0.8953 - val_loss: 0.5106 - val_acc: 0.7975\n",
      "Epoch 48/60\n",
      "64/64 [==============================] - 28s 433ms/step - loss: 0.2343 - acc: 0.9070 - val_loss: 0.5472 - val_acc: 0.8100\n",
      "Epoch 49/60\n",
      "64/64 [==============================] - 28s 439ms/step - loss: 0.2516 - acc: 0.8937 - val_loss: 0.4995 - val_acc: 0.8025\n",
      "Epoch 50/60\n",
      "64/64 [==============================] - 28s 438ms/step - loss: 0.2475 - acc: 0.8898 - val_loss: 0.6767 - val_acc: 0.7600\n",
      "Epoch 51/60\n",
      "64/64 [==============================] - 28s 433ms/step - loss: 0.2502 - acc: 0.8953 - val_loss: 0.4815 - val_acc: 0.7825\n",
      "Epoch 52/60\n",
      "64/64 [==============================] - 28s 439ms/step - loss: 0.2233 - acc: 0.9062 - val_loss: 0.6134 - val_acc: 0.7700\n",
      "Epoch 53/60\n",
      "64/64 [==============================] - 28s 439ms/step - loss: 0.2316 - acc: 0.9156 - val_loss: 0.5042 - val_acc: 0.8250\n",
      "Epoch 54/60\n",
      "64/64 [==============================] - 28s 438ms/step - loss: 0.2459 - acc: 0.8906 - val_loss: 0.4086 - val_acc: 0.8325\n",
      "Epoch 55/60\n",
      "64/64 [==============================] - 28s 433ms/step - loss: 0.2203 - acc: 0.9062 - val_loss: 0.6313 - val_acc: 0.7725\n",
      "Epoch 56/60\n",
      "64/64 [==============================] - 28s 438ms/step - loss: 0.2044 - acc: 0.9156 - val_loss: 0.5805 - val_acc: 0.7925\n",
      "Epoch 57/60\n",
      "64/64 [==============================] - 28s 439ms/step - loss: 0.2220 - acc: 0.9016 - val_loss: 0.5935 - val_acc: 0.7775\n",
      "Epoch 58/60\n",
      "64/64 [==============================] - 28s 438ms/step - loss: 0.2277 - acc: 0.9125 - val_loss: 0.6236 - val_acc: 0.7925\n",
      "Epoch 59/60\n",
      "64/64 [==============================] - 28s 432ms/step - loss: 0.2381 - acc: 0.8992 - val_loss: 0.5772 - val_acc: 0.7750\n",
      "Epoch 60/60\n",
      "64/64 [==============================] - 28s 438ms/step - loss: 0.2083 - acc: 0.9133 - val_loss: 0.5454 - val_acc: 0.7975\n"
     ]
    }
   ],
   "source": [
    "#dopasowanie = generator wsadow danych\n",
    "history = model.fit_generator(train_generator, \n",
    "                              steps_per_epoch=64,\n",
    "                              epochs=60, \n",
    "                              validation_data=validation_generator,\n",
    "                              validation_steps=20)\n",
    "model.save('Dense_model_cancer_recognition.h5')"
   ]
  },
  {
   "cell_type": "code",
   "execution_count": 1,
   "metadata": {},
   "outputs": [
    {
     "ename": "NameError",
     "evalue": "name 'history' is not defined",
     "output_type": "error",
     "traceback": [
      "\u001b[1;31m---------------------------------------------------------------------------\u001b[0m",
      "\u001b[1;31mNameError\u001b[0m                                 Traceback (most recent call last)",
      "\u001b[1;32m<ipython-input-1-b3a1bf51377d>\u001b[0m in \u001b[0;36m<module>\u001b[1;34m\u001b[0m\n\u001b[0;32m      2\u001b[0m \u001b[1;32mimport\u001b[0m \u001b[0mmatplotlib\u001b[0m\u001b[1;33m.\u001b[0m\u001b[0mpyplot\u001b[0m \u001b[1;32mas\u001b[0m \u001b[0mplt\u001b[0m\u001b[1;33m\u001b[0m\u001b[1;33m\u001b[0m\u001b[0m\n\u001b[0;32m      3\u001b[0m \u001b[1;33m\u001b[0m\u001b[0m\n\u001b[1;32m----> 4\u001b[1;33m \u001b[0macc\u001b[0m \u001b[1;33m=\u001b[0m \u001b[0mhistory\u001b[0m\u001b[1;33m.\u001b[0m\u001b[0mhistory\u001b[0m\u001b[1;33m[\u001b[0m\u001b[1;34m'acc'\u001b[0m\u001b[1;33m]\u001b[0m\u001b[1;33m\u001b[0m\u001b[1;33m\u001b[0m\u001b[0m\n\u001b[0m\u001b[0;32m      5\u001b[0m \u001b[0mval_acc\u001b[0m \u001b[1;33m=\u001b[0m \u001b[0mhistory\u001b[0m\u001b[1;33m.\u001b[0m\u001b[0mhistory\u001b[0m\u001b[1;33m[\u001b[0m\u001b[1;34m'val_acc'\u001b[0m\u001b[1;33m]\u001b[0m\u001b[1;33m\u001b[0m\u001b[1;33m\u001b[0m\u001b[0m\n\u001b[0;32m      6\u001b[0m \u001b[0mloss\u001b[0m \u001b[1;33m=\u001b[0m \u001b[0mhistory\u001b[0m\u001b[1;33m.\u001b[0m\u001b[0mhistory\u001b[0m\u001b[1;33m[\u001b[0m\u001b[1;34m'loss'\u001b[0m\u001b[1;33m]\u001b[0m\u001b[1;33m\u001b[0m\u001b[1;33m\u001b[0m\u001b[0m\n",
      "\u001b[1;31mNameError\u001b[0m: name 'history' is not defined"
     ]
    }
   ],
   "source": [
    "#generowanie wykresów\n",
    "import matplotlib.pyplot as plt\n",
    "\n",
    "acc = history.history['acc']\n",
    "val_acc = history.history['val_acc']\n",
    "loss = history.history['loss']\n",
    "val_loss = history.history['val_loss']\n",
    "\n",
    "epochs = range(len(acc))\n",
    "\n",
    "plt.plot(epochs,acc,'bo', label='Dokladnosc trenowania')\n",
    "plt.plot(epochs,val_acc,'b', label='Dokladnosc walidacji')\n",
    "plt.title('Dokladnosc trenowania i waliudacji')\n",
    "plt.legend()\n",
    "\n",
    "plt.figure()\n",
    "\n",
    "plt.plot(epochs,loss,'bo', label='Strata ternowania')\n",
    "plt.plot(epochs,val_loss,'b', label='Strata walidacji')\n",
    "plt.title('Strata trenowania i waliudacji')\n",
    "plt.legend()\n",
    "\n",
    "plt.show()"
   ]
  },
  {
   "cell_type": "code",
   "execution_count": null,
   "metadata": {},
   "outputs": [],
   "source": []
  }
 ],
 "metadata": {
  "kernelspec": {
   "display_name": "Python 3",
   "language": "python",
   "name": "python3"
  },
  "language_info": {
   "codemirror_mode": {
    "name": "ipython",
    "version": 3
   },
   "file_extension": ".py",
   "mimetype": "text/x-python",
   "name": "python",
   "nbconvert_exporter": "python",
   "pygments_lexer": "ipython3",
   "version": "3.6.8"
  }
 },
 "nbformat": 4,
 "nbformat_minor": 2
}
